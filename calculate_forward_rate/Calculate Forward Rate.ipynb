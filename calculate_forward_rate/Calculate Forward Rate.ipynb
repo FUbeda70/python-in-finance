{
 "cells": [
  {
   "cell_type": "markdown",
   "metadata": {},
   "source": [
    "# Calculate Forward Rate"
   ]
  },
  {
   "cell_type": "markdown",
   "metadata": {},
   "source": [
    "## Calculate forward rate from spot rate"
   ]
  },
  {
   "cell_type": "markdown",
   "metadata": {},
   "source": [
    "### Formula"
   ]
  },
  {
   "cell_type": "markdown",
   "metadata": {},
   "source": [
    "***\n",
    "$\\mathbf{\\text{Calculate forward rate}}$<br>\n",
    "***\n",
    "1.&emsp;We have a spot rate yield curve for 21 years, which has a rate starting from 1% <br>\n",
    "\n",
    "<br>\n",
    "2.&emsp; $ Forward\\;rate = \\large\\frac{(1\\,+ \\,r_{spot}^{t})^{t}}{(1\\,+\\,r_{spot}^{t-1})^{t-1}}$ <br>\n",
    "&emsp;&emsp;&emsp;  $r_{spot}^\\,{t}:\\,$ Spot rate at time t \n"
   ]
  },
  {
   "cell_type": "markdown",
   "metadata": {},
   "source": [
    "### Code"
   ]
  },
  {
   "cell_type": "code",
   "execution_count": 52,
   "metadata": {},
   "outputs": [],
   "source": [
    "import pandas as pd\n",
    "\n",
    "# path of spot rate\n",
    "rate_path = r'./Calculate forward rate/Calculate fw data.csv'"
   ]
  },
  {
   "cell_type": "code",
   "execution_count": 67,
   "metadata": {},
   "outputs": [],
   "source": [
    "# For creating gists\n",
    "# Gist - sample_data.csv\n",
    "\n",
    "data_csv = pd.read_csv(rate_path)\n",
    "data_csv[\"Spot_Rate\"] = data_csv[\"Spot_Rate\"].round(8)\n",
    "data_csv.to_clipboard(sep=\",\", index=False)"
   ]
  },
  {
   "cell_type": "code",
   "execution_count": 73,
   "metadata": {},
   "outputs": [],
   "source": [
    "# Read in the data from csv\n",
    "data = pd.read_csv(rate_path)\n",
    "\n",
    "# Shift the spot rate down along the maturity axis\n",
    "data[\"Spot_Rate_Shift\"] = data[[\"Spot_Rate\"]].shift(1, fill_value=0)\n",
    "data[\"Forward_Rate\"] = (((1 + data[\"Spot_Rate\"]) ** data[\"Maturity\"]) / \n",
    "                       ((1 + data[\"Spot_Rate_Shift\"]) ** (data[\"Maturity\"] - 1)) - 1)"
   ]
  },
  {
   "cell_type": "code",
   "execution_count": 74,
   "metadata": {},
   "outputs": [],
   "source": [
    "# For creating gists\n",
    "# Gist - forward_rate.csv\n",
    "\n",
    "data[[\"Spot_Rate\", \"Spot_Rate_Shift\", \"Forward_Rate\"]] = data[[\"Spot_Rate\", \"Spot_Rate_Shift\", \"Forward_Rate\"]] .round(3)\n",
    "data.to_clipboard(sep=\",\", index=False)"
   ]
  },
  {
   "cell_type": "code",
   "execution_count": null,
   "metadata": {},
   "outputs": [],
   "source": []
  }
 ],
 "metadata": {
  "hide_input": false,
  "kernelspec": {
   "display_name": "Python 3",
   "language": "python",
   "name": "python3"
  },
  "language_info": {
   "codemirror_mode": {
    "name": "ipython",
    "version": 3
   },
   "file_extension": ".py",
   "mimetype": "text/x-python",
   "name": "python",
   "nbconvert_exporter": "python",
   "pygments_lexer": "ipython3",
   "version": "3.7.4"
  },
  "toc": {
   "base_numbering": 1,
   "nav_menu": {},
   "number_sections": true,
   "sideBar": true,
   "skip_h1_title": false,
   "title_cell": "Table of Contents",
   "title_sidebar": "Contents",
   "toc_cell": false,
   "toc_position": {},
   "toc_section_display": true,
   "toc_window_display": false
  }
 },
 "nbformat": 4,
 "nbformat_minor": 2
}
